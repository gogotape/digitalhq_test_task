{
 "cells": [
  {
   "cell_type": "code",
   "execution_count": 9,
   "id": "9f9fe352",
   "metadata": {},
   "outputs": [],
   "source": [
    "import numpy as np\n",
    "import matplotlib.pyplot as plt\n",
    "from shapely.geometry import LineString\n",
    "import networkx as nx\n",
    "%matplotlib inline"
   ]
  },
  {
   "cell_type": "code",
   "execution_count": 10,
   "id": "d8501972",
   "metadata": {},
   "outputs": [],
   "source": [
    "G = 9.81  # m/sec^2\n",
    "KINEMATIC_VISCOSITY = 10 ** -6  # m/sec^2\n",
    "my_pressure_list = [0.05, 0.1, 1, 5, 10, 15, 30, 50, 100]  # m. water\n",
    "my_rate_list = [0, 0.01, 0.1, 0.2, 0.3, 0.5, 1, 5]  # m3/sec"
   ]
  },
  {
   "cell_type": "code",
   "execution_count": 11,
   "id": "ce764856",
   "metadata": {},
   "outputs": [
    {
     "data": {
      "text/plain": [
       "'\\n#     A  B  C  D  E  F  G  H  K  L\\nA = [[0, 0, 0, 0, 0, 0, 0, 0, 0, 0],# A\\n    [1, 0, 0, 0, 0, 0, 0, 0, 0, 0], # B\\n    [0, 1, 0, 0, 0, 0, 0, 0, 0, 0], # C\\n    [0, 0, 1, 0, 0, 0, 0, 0, 0, 0], # D\\n    [0, 0, 0, 0, 0, 0, 0, 0, 0, 0], # E\\n    [0, 0, 0, 0, 0, 0, 0, 0, 0, 0], # F\\n    [0, 0, 0, 0, 0, 0, 0, 0, 0, 0], # G\\n    [0, 0, 0, 0, 0, 0, 0, 0, 0, 0], # H\\n    [0, 0, 0, 0, 0, 0, 0, 0, 0, 0], # K\\n    [0, 0, 0, 0, 0, 0, 0, 0, 0, 0]] # L\\n\\nGRAPH = nx.from_numpy_matrix(np.matrix(A), create_using=nx.DiGraph)\\nlayout = nx.spring_layout(GRAPH)\\nnx.draw(GRAPH, layout)\\nnx.draw_networkx_edge_labels(GRAPH, pos=layout)\\nplt.show()\\n'"
      ]
     },
     "execution_count": 11,
     "metadata": {},
     "output_type": "execute_result"
    }
   ],
   "source": [
    "\"\"\"\n",
    "#     A  B  C  D  E  F  G  H  K  L\n",
    "A = [[0, 0, 0, 0, 0, 0, 0, 0, 0, 0],# A\n",
    "    [1, 0, 0, 0, 0, 0, 0, 0, 0, 0], # B\n",
    "    [0, 1, 0, 0, 0, 0, 0, 0, 0, 0], # C\n",
    "    [0, 0, 1, 0, 0, 0, 0, 0, 0, 0], # D\n",
    "    [0, 0, 0, 0, 0, 0, 0, 0, 0, 0], # E\n",
    "    [0, 0, 0, 0, 0, 0, 0, 0, 0, 0], # F\n",
    "    [0, 0, 0, 0, 0, 0, 0, 0, 0, 0], # G\n",
    "    [0, 0, 0, 0, 0, 0, 0, 0, 0, 0], # H\n",
    "    [0, 0, 0, 0, 0, 0, 0, 0, 0, 0], # K\n",
    "    [0, 0, 0, 0, 0, 0, 0, 0, 0, 0]] # L\n",
    "\n",
    "GRAPH = nx.from_numpy_matrix(np.matrix(A), create_using=nx.DiGraph)\n",
    "layout = nx.spring_layout(GRAPH)\n",
    "nx.draw(GRAPH, layout)\n",
    "nx.draw_networkx_edge_labels(GRAPH, pos=layout)\n",
    "plt.show()\n",
    "\"\"\""
   ]
  },
  {
   "cell_type": "code",
   "execution_count": 12,
   "id": "712f3676",
   "metadata": {},
   "outputs": [],
   "source": [
    "class Pipeline:\n",
    "    def __init__(self, name, length, inside_diameter):\n",
    "        self.name = name\n",
    "        self.length = length\n",
    "        self.inside_diameter = inside_diameter\n",
    "\n",
    "        self.pressure_characteristic = (\n",
    "            self.calc_pressure_characteristic_of_the_pipeline()\n",
    "        )\n",
    "\n",
    "    @staticmethod\n",
    "    def calc_reynolds_number(\n",
    "        velocity: float, inside_diameter: float, kinematic_viscosity: float\n",
    "    ) -> float:\n",
    "        \"\"\"Accept w, d, kv and return Re\"\"\"\n",
    "\n",
    "        reynolds_number = velocity * inside_diameter / kinematic_viscosity\n",
    "\n",
    "        return reynolds_number\n",
    "\n",
    "    @staticmethod\n",
    "    def calc_friction_coefficient(reynolds_number: float) -> float:\n",
    "        \"\"\"Accept Re and return lambda friction\"\"\"\n",
    "\n",
    "        if reynolds_number < 2320:  # laminar\n",
    "            try:\n",
    "                lambda_friction = 64 / reynolds_number\n",
    "            except ZeroDivisionError:\n",
    "                lambda_friction = 0\n",
    "        else:  # turbulent\n",
    "            lambda_friction = 0.3164 / reynolds_number ** 0.25\n",
    "\n",
    "        return lambda_friction\n",
    "\n",
    "    @staticmethod\n",
    "    def calc_hydraulic_losses(\n",
    "        lambda_friction: float, inside_diameter: float, length: float, velocity: float\n",
    "    ) -> float:\n",
    "        \"\"\"Accept lambda friction, L, d, w and return hydraulic losses (m)\"\"\"\n",
    "\n",
    "        hydraulic_losses = (\n",
    "            lambda_friction * (length * velocity ** 2) / (inside_diameter * 2 * G)\n",
    "        )\n",
    "\n",
    "        return hydraulic_losses\n",
    "\n",
    "    def calc_pressure_characteristic_of_the_pipeline(self) -> list:\n",
    "        \"\"\"Accept length, d and return pressure characteristic using my_rate_list\"\"\"\n",
    "\n",
    "        length = self.length\n",
    "        inside_diameter = self.inside_diameter\n",
    "\n",
    "        hydraulic_losses_list = list()\n",
    "\n",
    "        for rate in my_rate_list:\n",
    "            velocity = (4 * rate) / (np.pi * inside_diameter ** 2)\n",
    "\n",
    "            reynolds_number = self.calc_reynolds_number(\n",
    "                velocity=velocity,\n",
    "                inside_diameter=inside_diameter,\n",
    "                kinematic_viscosity=KINEMATIC_VISCOSITY,\n",
    "            )\n",
    "\n",
    "            lambda_friction = self.calc_friction_coefficient(\n",
    "                reynolds_number=reynolds_number\n",
    "            )\n",
    "\n",
    "            hydraulic_losses = self.calc_hydraulic_losses(\n",
    "                lambda_friction=lambda_friction,\n",
    "                inside_diameter=inside_diameter,\n",
    "                length=length,\n",
    "                velocity=velocity,\n",
    "            )\n",
    "\n",
    "            hydraulic_losses_list.append(hydraulic_losses)\n",
    "\n",
    "        return hydraulic_losses_list\n",
    "\n",
    "    def plot_pressure_characteristic(self):\n",
    "        \"\"\"Plot pressure characteristic\"\"\"\n",
    "\n",
    "        hydraulic_losses_list = self.pressure_characteristic\n",
    "        plt.plot(my_rate_list, hydraulic_losses_list)\n",
    "        plt.title(f\"Pressure characteristic for pipeline {self.name}\")\n",
    "        plt.xlabel(\"rate, m3/sec\")\n",
    "        plt.ylabel(\"pressure losses, m. water\")\n",
    "        plt.show()"
   ]
  },
  {
   "cell_type": "code",
   "execution_count": 13,
   "id": "e9313157",
   "metadata": {},
   "outputs": [],
   "source": [
    "# pressure characteristic calculation\n",
    "\n",
    "def calc_serial_connected_pipelines_characteristic(characteristic_list: list) -> list:\n",
    "    \"\"\"Accept list with characteristic of serial connected pipelines and return their total pressure characteristic\"\"\"\n",
    "\n",
    "    rate_list = my_rate_list\n",
    "    total_characteristic = np.zeros(shape=(1, len(rate_list)))\n",
    "\n",
    "    for characteristic in characteristic_list:\n",
    "        characteristic = np.array(characteristic)\n",
    "        total_characteristic = total_characteristic + np.array(characteristic)\n",
    "\n",
    "    total_characteristic = list(np.transpose(total_characteristic))\n",
    "\n",
    "    return total_characteristic\n",
    "\n",
    "\n",
    "def calc_parallel_connected_pipelines_characteristic(characteristic_list: list) -> list:\n",
    "    \"\"\"Accept list with characteristic of parallel connected pipelines and return their total pressure characteristic\"\"\"\n",
    "\n",
    "    rate_list = my_rate_list\n",
    "\n",
    "    all_intersection_values_list = list()\n",
    "    for pressure in my_pressure_list:\n",
    "        y_line = [pressure for _ in range(len(rate_list))]\n",
    "        temp_list = list()\n",
    "\n",
    "        for characteristic in characteristic_list:\n",
    "            characteristic = np.array(characteristic)\n",
    "\n",
    "            first_line = LineString(np.column_stack((characteristic, rate_list)))\n",
    "            second_line = LineString(np.column_stack((y_line, rate_list)))\n",
    "            intersection = first_line.intersection(second_line)\n",
    "\n",
    "            target_pressure = intersection.y\n",
    "            temp_list.append(target_pressure)\n",
    "\n",
    "        all_intersection_values_list.append(temp_list)\n",
    "\n",
    "    total_characteristic = [sum(i) for i in all_intersection_values_list]\n",
    "\n",
    "    coefficients = np.polyfit(\n",
    "        total_characteristic, my_pressure_list, 3\n",
    "    )  # where 3 is the degree of freedom\n",
    "\n",
    "    a, b, c, d = coefficients\n",
    "\n",
    "    total_characteristic = [\n",
    "        rate ** 3 * a + rate ** 2 * b + rate ** 1 * c + rate ** 0 * d\n",
    "        for rate in rate_list\n",
    "    ]\n",
    "\n",
    "    print(f\"polynomial function coefficients: {coefficients}\")\n",
    "\n",
    "    return total_characteristic"
   ]
  },
  {
   "cell_type": "code",
   "execution_count": 14,
   "id": "6e56dcd7",
   "metadata": {},
   "outputs": [],
   "source": [
    "def calc_rate_for_characteristic(characteristic: list, delta_pressure: float) -> float:\n",
    "    \"\"\"Accept pressure characteristic and delta pressure, return rate\"\"\"\n",
    "\n",
    "    y_line = [delta_pressure for _ in range(len(my_rate_list))]\n",
    "\n",
    "    intersection = find_intersection(my_rate_list, characteristic, my_rate_list, y_line)\n",
    "\n",
    "    plt.plot(my_rate_list, characteristic)\n",
    "    plt.plot(my_rate_list, y_line)\n",
    "    plt.title(f\"Total pressure characteristic of system\")\n",
    "    plt.xlabel(\"rate, m3/sec\")\n",
    "    plt.ylabel(\"pressure losses, m. water\")\n",
    "    plt.axvline(intersection.x, color=\"r\")\n",
    "    plt.show()\n",
    "\n",
    "    intersection = find_intersection(my_rate_list, characteristic, my_rate_list, y_line)\n",
    "    rate = intersection.x\n",
    "\n",
    "    return rate\n",
    "\n",
    "\n",
    "def find_intersection(x1, y1, x2, y2):\n",
    "    first_line = LineString(np.column_stack((x1, y1)))\n",
    "    second_line = LineString(np.column_stack((x2, y2)))\n",
    "    intersection = first_line.intersection(second_line)\n",
    "\n",
    "    try:\n",
    "        intersection_x = intersection.x\n",
    "    except AttributeError as e:\n",
    "        print(\n",
    "            \"There is no intersection for this data. Change delta pressure, range of rates or range of pressures\"\n",
    "        )\n",
    "        raise e\n",
    "\n",
    "    return intersection\n",
    "\n",
    "\n",
    "def find_time_to_pump(volume: float, rate: float) -> float:\n",
    "\n",
    "    return round(volume / rate, 0)"
   ]
  },
  {
   "cell_type": "code",
   "execution_count": 15,
   "id": "402453a3",
   "metadata": {},
   "outputs": [
    {
     "data": {
      "image/png": "[encoded data removed]",
      "text/plain": [
       "<Figure size 432x288 with 1 Axes>"
      ]
     },
     "metadata": {
      "needs_background": "light"
     },
     "output_type": "display_data"
    },
    {
     "name": "stdout",
     "output_type": "stream",
     "text": [
      "Example 1\n",
      "Delta pressure: 10\n",
      "Rate: 116322.80998883599, m3/day\n",
      "Time to pump: 743.0 sec, 0.009 days\n"
     ]
    }
   ],
   "source": [
    "# example 1\n",
    "# есть 1 участок, A-B, длинна 1 км, диаметр 0,7 м. Надо перекачать 1000 м3. Требуется определить время на перекачку.\n",
    "volume = 1000  # m3\n",
    "delta_pressure = 10\n",
    "length = 1000\n",
    "inside_diameter = 0.7\n",
    "\n",
    "pipe_1 = Pipeline(name=\"AB\", length=length, inside_diameter=inside_diameter)\n",
    "rate = calc_rate_for_characteristic(\n",
    "    characteristic=pipe_1.pressure_characteristic, delta_pressure=delta_pressure\n",
    ")\n",
    "\n",
    "print(\"Example 1\")\n",
    "print(f\"Delta pressure: {delta_pressure}\")\n",
    "print(f\"Rate: {rate * 86400}, m3/day\")\n",
    "time_to_pump = find_time_to_pump(volume=volume, rate=rate)\n",
    "print(f\"Time to pump: {time_to_pump} sec, {round(time_to_pump / 86400, 3)} days\")"
   ]
  },
  {
   "cell_type": "code",
   "execution_count": 16,
   "id": "f4387f2f",
   "metadata": {},
   "outputs": [
    {
     "data": {
      "image/png": "[encoded data removed]",
      "text/plain": [
       "<Figure size 432x288 with 1 Axes>"
      ]
     },
     "metadata": {
      "needs_background": "light"
     },
     "output_type": "display_data"
    },
    {
     "name": "stdout",
     "output_type": "stream",
     "text": [
      "Example 2\n",
      "Delta pressure: 5000\n",
      "Rate: 44102.964914107375, m3/day\n",
      "Time to pump: 1959.0 sec, 0.023 days\n"
     ]
    }
   ],
   "source": [
    "# example 2\n",
    "# Пример задачи. Есть трубопровод из 4 участков, A (диаметр 0,7м)-B(диаметр 0,2м)-C(диаметр 0,15м)-D(диаметр 0,7м),\n",
    "# каждый по 2 км. Надо перекачать 1000 м3. Требуется определить время на перекачку.\n",
    "volume = 1000  # m3\n",
    "delta_pressure = 5000\n",
    "pipeline_dict = {\n",
    "    \"A\": [2000, 0.7],\n",
    "    \"B\": [2000, 0.2],\n",
    "    \"C\": [2000, 0.15],\n",
    "    \"D\": [2000, 0.7],\n",
    "}\n",
    "\n",
    "total_characteristic = list()\n",
    "for pipe, values in pipeline_dict.items():\n",
    "    temp_pipeline = Pipeline(name=pipe, length=values[0], inside_diameter=values[1])\n",
    "    total_characteristic.append(temp_pipeline.pressure_characteristic)\n",
    "\n",
    "\n",
    "system_characteristic = list(\n",
    "    calc_serial_connected_pipelines_characteristic(total_characteristic)\n",
    ")\n",
    "rate = calc_rate_for_characteristic(\n",
    "    characteristic=system_characteristic, delta_pressure=delta_pressure\n",
    ")\n",
    "\n",
    "print(\"\"\"Example 2\"\"\")\n",
    "print(f\"Delta pressure: {delta_pressure}\")\n",
    "print(f\"Rate: {rate * 86400}, m3/day\")\n",
    "time_to_pump = find_time_to_pump(volume=volume, rate=rate)\n",
    "print(f\"Time to pump: {time_to_pump} sec, {round(time_to_pump / 86400, 3)} days\")"
   ]
  },
  {
   "cell_type": "code",
   "execution_count": 18,
   "id": "4942d1b7",
   "metadata": {},
   "outputs": [
    {
     "name": "stdout",
     "output_type": "stream",
     "text": [
      "polynomial function coefficients: [-7.35577570e+00  1.27755546e-03  8.19641243e+05  3.99680289e-13]\n"
     ]
    },
    {
     "data": {
      "image/png": "[encoded data removed]",
      "text/plain": [
       "<Figure size 432x288 with 1 Axes>"
      ]
     },
     "metadata": {
      "needs_background": "light"
     },
     "output_type": "display_data"
    },
    {
     "name": "stdout",
     "output_type": "stream",
     "text": [
      "Example 3\n",
      "Delta pressure: 6500000\n",
      "Rate: 151787.3061672116, m3/day\n",
      "Time to pump: 569217560.0 sec, 6588.166 days\n"
     ]
    }
   ],
   "source": [
    "# example 3\n",
    "# Пример задачи. Есть трубопровод из 4 участков, A (диаметр 0,7м)-[ B(диаметр 0,2м)-C(диаметр 0,15м)]-D(диаметр 0,7м),\n",
    "# каждый по 20 000 км. Надо перекачать 1000 000 000 м3. Требуется определить время на перекачку.\n",
    "# [квадратные скобки] означают что два участка подключены параллельно.\n",
    "\n",
    "volume = 1000000000\n",
    "delta_pressure = 6500000\n",
    "pipeline_dict = {\n",
    "    \"A\": [20000000, 0.7],\n",
    "    \"B\": [20000000, 0.2],\n",
    "    \"C\": [20000000, 0.15],\n",
    "    \"D\": [20000000, 0.7],\n",
    "}\n",
    "\n",
    "\n",
    "parallel_segment_characteristic_list = list()\n",
    "others_segment_characteristic = list()\n",
    "for pipe, values in pipeline_dict.items():\n",
    "    temp_pipeline = Pipeline(name=pipe, length=values[0], inside_diameter=values[1])\n",
    "    if pipe in [\"B\", \"C\"]:\n",
    "        parallel_segment_characteristic_list.append(\n",
    "            temp_pipeline.pressure_characteristic\n",
    "        )\n",
    "    else:\n",
    "        others_segment_characteristic.append(temp_pipeline.pressure_characteristic)\n",
    "\n",
    "parallel_segment_characteristic = calc_parallel_connected_pipelines_characteristic(\n",
    "    parallel_segment_characteristic_list\n",
    ")\n",
    "\n",
    "total_characteristic = list()\n",
    "total_characteristic.extend(others_segment_characteristic)\n",
    "total_characteristic.extend(parallel_segment_characteristic)\n",
    "\n",
    "system_characteristic = calc_serial_connected_pipelines_characteristic(\n",
    "    total_characteristic\n",
    ")\n",
    "rate = calc_rate_for_characteristic(\n",
    "    characteristic=system_characteristic, delta_pressure=delta_pressure\n",
    ")\n",
    "\n",
    "print(\"\"\"Example 3\"\"\")\n",
    "print(f\"Delta pressure: {delta_pressure}\")\n",
    "print(f\"Rate: {rate * 86400}, m3/day\")\n",
    "time_to_pump = find_time_to_pump(volume=volume, rate=rate)\n",
    "print(f\"Time to pump: {time_to_pump} sec, {round(time_to_pump / 86400, 3)} days\")"
   ]
  },
  {
   "cell_type": "code",
   "execution_count": null,
   "id": "f4f0ae31",
   "metadata": {},
   "outputs": [],
   "source": []
  }
 ],
 "metadata": {
  "kernelspec": {
   "display_name": "Python 3",
   "language": "python",
   "name": "python3"
  },
  "language_info": {
   "codemirror_mode": {
    "name": "ipython",
    "version": 3
   },
   "file_extension": ".py",
   "mimetype": "text/x-python",
   "name": "python",
   "nbconvert_exporter": "python",
   "pygments_lexer": "ipython3",
   "version": "3.9.2"
  }
 },
 "nbformat": 4,
 "nbformat_minor": 5
}
